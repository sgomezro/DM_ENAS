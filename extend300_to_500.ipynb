{
 "cells": [
  {
   "cell_type": "code",
   "execution_count": 17,
   "id": "b1fe7cce-411e-4478-8934-8e5f8de159b9",
   "metadata": {},
   "outputs": [],
   "source": [
    "import numpy as np\n",
    "import pandas as pd\n",
    "import matplotlib.pyplot as plt\n",
    "import os\n",
    "import shutil\n",
    "\n",
    "from source._helpersV4 import logSave,load_parameters"
   ]
  },
  {
   "cell_type": "code",
   "execution_count": 65,
   "id": "e66fb782-4f17-4327-bdd3-2530ac915c69",
   "metadata": {},
   "outputs": [
    {
     "name": "stdout",
     "output_type": "stream",
     "text": [
      "checked all architecture files exists for dataset/yahoo_data/\n",
      "all architectures for yahoo in folder best were exteded to generation 500\n"
     ]
    }
   ],
   "source": [
    "#Get the best model for the centremost sensor\n",
    "# data_type,centermost = 'smap','D-11' #['E-8','T-3','D-4','E-11','D-11'] smap dataset\n",
    "data_type,centermost = 'yahoo','60' #[18,60,29,50,25] smap dataset\n",
    "arch_type = 'best'\n",
    "\n",
    "p_path = 'experiments/{}_300/{}_p.json'.format(data_type,data_type)\n",
    "p = load_parameters(p_path)\n",
    "\n",
    "l_exp = [1,2,3]\n",
    "l_gen = ['0300']#[str(i).zfill(4) for i in range(10,101,10)]\n",
    "extend_to = 500\n",
    "steps_to = 10\n",
    "\n",
    "l_c = []\n",
    "df_fname = f'experiments/{data_type}_100/centermost_{centermost}_bestby_lossf.csv'\n",
    "l_inputs,l_filter,l_loss_f,_ = lists_from_bestby_df(df_fname)\n",
    "\n",
    "for exp in l_exp:\n",
    "    for inputs,filter,loss_f in zip(l_inputs,l_filter,l_loss_f):\n",
    "        for gen in l_gen:\n",
    "            if any(lf in loss_f for lf in ['ap','f1']):\n",
    "                diff_type = 'non-diff'\n",
    "                opt_direction = 'maximize'\n",
    "            elif any(lf in loss_f for lf in ['mae','ce']):\n",
    "                diff_type = 'diff'\n",
    "                opt_direction = 'minimize'\n",
    "    \n",
    "            config = {}\n",
    "            config['fname'] = '{}{}_{}/exp{}_ins{}_{}_{}/{}/ind_{}.npy'.\\\n",
    "                        format(p['experiment_path'],data_type,centermost,exp,inputs,filter,loss_f,arch_type,gen)\n",
    "            config['gen_fname'] = '{}{}_{}/exp{}_ins{}_{}_{}/{}/ind_'.\\\n",
    "                        format(p['experiment_path'],data_type,centermost,exp,inputs,filter,loss_f,arch_type)\n",
    "            config['extend_to'] = extend_to\n",
    "            config['steps_to'] = steps_to\n",
    "            config['data_type'] = data_type\n",
    "            config['arch_type'] = arch_type\n",
    "            l_c += [config]\n",
    "\n",
    "extend_arch(l_c)"
   ]
  },
  {
   "cell_type": "code",
   "execution_count": null,
   "id": "0c50bf37-a899-4f35-8112-98115fb67c99",
   "metadata": {},
   "outputs": [],
   "source": []
  },
  {
   "cell_type": "code",
   "execution_count": 57,
   "id": "42253b2b-c13e-4fb9-90ae-8dea8f38d151",
   "metadata": {},
   "outputs": [],
   "source": [
    "def lists_from_bestby_df(fname):\n",
    "    df = pd.read_csv(fname)\n",
    "    return df['inputs'].to_list(),df['filter'].to_list(),df['lossf'].to_list(),df['gen'].to_list()\n",
    "\n",
    "def check_if_exists(c_l):\n",
    "    files_missing = []\n",
    "    for c in c_l:\n",
    "        if not os.path.exists(c['fname']):\n",
    "            files_missing += [c['fname']]\n",
    "    if files_missing == []:\n",
    "        print('checked all architecture files exists for {}'.format(p['data_path']))\n",
    "    else:\n",
    "        print('List of filess missing to get results:')\n",
    "        for item in files_missing:\n",
    "            print(item)\n",
    "        raise ValueError('Correct missing files before calculating project results')\n",
    "\n",
    "def extend_arch(l_c):\n",
    "    check_if_exists(l_c)\n",
    "    for c in l_c:\n",
    "        fname = c['fname']\n",
    "        gen_name = c['gen_fname']\n",
    "        extend = c['extend_to']\n",
    "        steps = c['steps_to']\n",
    "        for g in range(300+steps,extend+1,steps):\n",
    "            new_arch = f'{gen_name}{str(g).zfill(4)}.npy'\n",
    "            shutil.copy(fname, new_arch)\n",
    "    print('all architectures for {} in folder {} were exteded to generation {}'.format(c['data_type'],c['arch_type'],extend))\n",
    "    "
   ]
  },
  {
   "cell_type": "code",
   "execution_count": null,
   "id": "b7812da5-0c37-4855-a961-8b0ae5e3c81f",
   "metadata": {},
   "outputs": [],
   "source": []
  }
 ],
 "metadata": {
  "kernelspec": {
   "display_name": "Python 3 (ipykernel)",
   "language": "python",
   "name": "python3"
  },
  "language_info": {
   "codemirror_mode": {
    "name": "ipython",
    "version": 3
   },
   "file_extension": ".py",
   "mimetype": "text/x-python",
   "name": "python",
   "nbconvert_exporter": "python",
   "pygments_lexer": "ipython3",
   "version": "3.10.13"
  }
 },
 "nbformat": 4,
 "nbformat_minor": 5
}
