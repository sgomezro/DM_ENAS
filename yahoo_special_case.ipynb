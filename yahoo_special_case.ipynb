{
 "cells": [
  {
   "cell_type": "code",
   "execution_count": 4,
   "id": "07d482bd-ef4d-450c-9b0e-5c7cc6edd2c5",
   "metadata": {},
   "outputs": [],
   "source": [
    "import numpy as np\n",
    "import pandas as pd\n",
    "import matplotlib.pyplot as plt\n",
    "import os\n",
    "import shutil\n",
    "\n",
    "from source._helpersV4 import logSave,load_parameters"
   ]
  },
  {
   "cell_type": "code",
   "execution_count": 5,
   "id": "1ac53ede-f1c7-450b-bff3-0d484e1dc678",
   "metadata": {},
   "outputs": [],
   "source": [
    "def lists_from_bestby_df(fname):\n",
    "    df = pd.read_csv(fname)\n",
    "    return df['inputs'].to_list(),df['filter'].to_list(),df['lossf'].to_list(),df['gen'].to_list()"
   ]
  },
  {
   "cell_type": "code",
   "execution_count": 6,
   "id": "da3d0a8f-b9ea-4047-86a0-dc77454be9bc",
   "metadata": {},
   "outputs": [],
   "source": [
    "data_type = 'yahoo'\n",
    "centermost = 60 # ['18','25','29','50','60']\n",
    "l_csv_files = ['compensate_inputs']#['bestby_lossf','compensate_inputs']#['bestby_lossf']#\n",
    "l_exp = [1,2,3]\n",
    "\n",
    "if data_type == 'yahoo':\n",
    "    p_path = 'experiments/{}_300/{}_p.json'.format(data_type,data_type)\n",
    "for csv_file in l_csv_files:\n",
    "    df_fname = f'experiments/{data_type}_100/centermost_{centermost}_{csv_file}.csv'\n",
    "    l_w_size,l_filter,l_loss_f,_ = lists_from_bestby_df(df_fname)\n",
    "\n",
    "    for exp in l_exp:\n",
    "        for w_size,filter,loss_f in zip(l_w_size,l_filter,l_loss_f):\n",
    "            if any(lf in loss_f for lf in ['ap','f1']):\n",
    "                diff_type = 'non-diff'\n",
    "                opt_direction = 'maximize'\n",
    "            elif any(lf in loss_f for lf in ['mae','ce']):\n",
    "                diff_type = 'diff'\n",
    "                opt_direction = 'minimize'\n",
    "\n",
    "            src_folder = f'experiments/yahoo_100/yahoo_{centermost}/exp{exp}_ins{w_size}_{filter}_{loss_f}/pre_adjw/'\n",
    "            dest_folder = f'experiments/yahoo_300/yahoo_{centermost}/exp{exp}_ins{w_size}_{filter}_{loss_f}/pre_adjw/'\n",
    "            \n",
    "            shutil.copytree(src_folder, dest_folder, dirs_exist_ok=True)\n",
    "            for g in range(110,301,10):\n",
    "                src_ind_fname = f'{dest_folder}ind_0100.npy'\n",
    "                dest_ind_fname = f'{dest_folder}ind_{str(g).zfill(4)}.npy'\n",
    "                shutil.copy2(src_ind_fname,dest_ind_fname)\n",
    "                src_cma_fname = f'{dest_folder}cma/cma_0100.npy'\n",
    "                dest_cma_fname = f'{dest_folder}cma/cma_{str(g).zfill(4)}.npy'\n",
    "                shutil.copy2(src_cma_fname,dest_cma_fname)"
   ]
  },
  {
   "cell_type": "code",
   "execution_count": 20,
   "id": "2d131a45-352f-41c7-9c8f-0a1d35a7bad5",
   "metadata": {},
   "outputs": [],
   "source": []
  },
  {
   "cell_type": "code",
   "execution_count": null,
   "id": "8a132e88-1fe8-4fb7-b48c-60669e7aadf3",
   "metadata": {},
   "outputs": [],
   "source": []
  }
 ],
 "metadata": {
  "kernelspec": {
   "display_name": "Python 3 (ipykernel)",
   "language": "python",
   "name": "python3"
  },
  "language_info": {
   "codemirror_mode": {
    "name": "ipython",
    "version": 3
   },
   "file_extension": ".py",
   "mimetype": "text/x-python",
   "name": "python",
   "nbconvert_exporter": "python",
   "pygments_lexer": "ipython3",
   "version": "3.10.13"
  }
 },
 "nbformat": 4,
 "nbformat_minor": 5
}
